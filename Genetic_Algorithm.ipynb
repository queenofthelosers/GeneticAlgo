{
  "nbformat": 4,
  "nbformat_minor": 0,
  "metadata": {
    "colab": {
      "name": "Genetic Algorithm.ipynb",
      "provenance": [],
      "collapsed_sections": [],
      "toc_visible": true
    },
    "kernelspec": {
      "name": "python3",
      "display_name": "Python 3"
    },
    "accelerator": "GPU"
  },
  "cells": [
    {
      "cell_type": "markdown",
      "metadata": {
        "id": "d62jlr2-BHN6"
      },
      "source": [
        "# Prepare the training and testing dataset"
      ]
    },
    {
      "cell_type": "code",
      "metadata": {
        "id": "dKxQorkLht5v",
        "colab": {
          "resources": {
            "http://localhost:8080/nbextensions/google.colab/files.js": {
              "data": "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",
              "ok": true,
              "headers": [
                [
                  "content-type",
                  "application/javascript"
                ]
              ],
              "status": 200,
              "status_text": ""
            }
          },
          "base_uri": "https://localhost:8080/",
          "height": 274
        },
        "outputId": "d5fbecdc-9fe9-4eb5-f6b7-71ed49aabd4e"
      },
      "source": [
        "from google.colab import files\n",
        "uploaded= files.upload()\n"
      ],
      "execution_count": null,
      "outputs": [
        {
          "output_type": "display_data",
          "data": {
            "text/html": [
              "\n",
              "     <input type=\"file\" id=\"files-dd81ca7c-2a05-4934-a382-05d25cb473db\" name=\"files[]\" multiple disabled\n",
              "        style=\"border:none\" />\n",
              "     <output id=\"result-dd81ca7c-2a05-4934-a382-05d25cb473db\">\n",
              "      Upload widget is only available when the cell has been executed in the\n",
              "      current browser session. Please rerun this cell to enable.\n",
              "      </output>\n",
              "      <script src=\"/nbextensions/google.colab/files.js\"></script> "
            ],
            "text/plain": [
              "<IPython.core.display.HTML object>"
            ]
          },
          "metadata": {
            "tags": []
          }
        },
        {
          "output_type": "stream",
          "text": [
            "Saving fear2-img.jpg to fear2-img.jpg\n",
            "Saving fear2-label.csv to fear2-label.csv\n",
            "Saving final-labels.csv to final-labels.csv\n",
            "Saving own-labels-final.csv to own-labels-final.csv\n",
            "Saving own-reps-final.csv to own-reps-final.csv\n",
            "Saving pred-reps.csv to pred-reps.csv\n",
            "Saving reps-au-final.csv to reps-au-final.csv\n"
          ],
          "name": "stdout"
        }
      ]
    },
    {
      "cell_type": "code",
      "metadata": {
        "id": "_uBrzjbUp6ZF",
        "colab": {
          "base_uri": "https://localhost:8080/"
        },
        "outputId": "94233a25-2280-4fdc-b26f-438e4c5ead45"
      },
      "source": [
        "import pandas as pd\n",
        "import numpy as np\n",
        "from sklearn.preprocessing import LabelEncoder\n",
        "from sklearn.model_selection import train_test_split\n",
        "\n",
        "rep_data = pd.read_csv('reps-au-final.csv', sep=',', header=0)\n",
        "label_data = pd.read_csv('final-labels.csv', sep=',', header=0)\n",
        "\n",
        "\n",
        "\n",
        "df = pd.DataFrame(rep_data.to_numpy(), columns=[i for i in range(0,len(rep_data.to_numpy()[0]))])\n",
        "\n",
        "le = LabelEncoder()\n",
        "label = le.fit_transform(label_data)\n",
        "\n",
        "\n",
        "X_train, X_test, y_train, y_test = train_test_split(df, \n",
        "                                                    label, test_size=0.20, \n",
        "                                                    random_state=101)\n"
      ],
      "execution_count": null,
      "outputs": [
        {
          "output_type": "stream",
          "text": [
            "/usr/local/lib/python3.6/dist-packages/sklearn/preprocessing/_label.py:251: DataConversionWarning: A column-vector y was passed when a 1d array was expected. Please change the shape of y to (n_samples, ), for example using ravel().\n",
            "  y = column_or_1d(y, warn=True)\n"
          ],
          "name": "stderr"
        }
      ]
    },
    {
      "cell_type": "markdown",
      "metadata": {
        "id": "9hkpKniDL01p"
      },
      "source": [
        "# Train using all the features (Random Forest Classifier)"
      ]
    },
    {
      "cell_type": "code",
      "metadata": {
        "id": "SjVVadchp9pe",
        "colab": {
          "base_uri": "https://localhost:8080/"
        },
        "outputId": "6cb31be6-8012-49f2-fe9a-f4ea3b65e7d3"
      },
      "source": [
        "from sklearn.ensemble import RandomForestClassifier\n",
        "\n",
        "classifier = RandomForestClassifier(n_estimators=20,random_state=101)\n",
        "classifier.fit(X_train,y_train.ravel())\n",
        "y_pred = classifier.predict(X_test)\n",
        "from sklearn.metrics import accuracy_score\n",
        "print(accuracy_score(y_test.ravel(),y_pred))"
      ],
      "execution_count": null,
      "outputs": [
        {
          "output_type": "stream",
          "text": [
            "0.973404255319149\n"
          ],
          "name": "stdout"
        }
      ]
    },
    {
      "cell_type": "markdown",
      "metadata": {
        "id": "J_FWycDzBO6Q"
      },
      "source": [
        "# Defining various Genetic Algorithm Operators"
      ]
    },
    {
      "cell_type": "markdown",
      "metadata": {
        "id": "0efdI-T24go7"
      },
      "source": [
        "Selection Operators :\n"
      ]
    },
    {
      "cell_type": "code",
      "metadata": {
        "id": "xqAR3Cxs4lY5"
      },
      "source": [
        "def roulette_selection(pop_after_fit,n_parents,scores):\n",
        "    total_fitness_sum = np.sum(scores)\n",
        "    probability_of_selection = list()\n",
        "    population_after_selection = list()\n",
        "    pop_after_fit_numpy = np.array(pop_after_fit)\n",
        "    length = len(scores)\n",
        "    scores_numpy = np.array(scores)\n",
        "    for i in range(0,length):\n",
        "      probability = scores[i]/total_fitness_sum\n",
        "      probability_of_selection.append(probability)\n",
        "    pop_indices=[]\n",
        "    for i in range(0,length):\n",
        "      pop_indices.append(i)\n",
        "    from numpy.random import choice\n",
        "    pop_after_fit_numpy = np.array(pop_after_fit)\n",
        "    p_indices_numpy = np.array(pop_indices)\n",
        "    prob_numpy = np.array(probability_of_selection)\n",
        "    for i in range(0,length):\n",
        "      population_after_selection.append(pop_after_fit_numpy[choice(p_indices_numpy,p=prob_numpy)])\n",
        "    return population_after_selection  \n",
        "\n",
        "def tournament_selection(pop_after_fit, n_parents,scores):\n",
        "    pop_after_selection = list()\n",
        "    pop_after_fit_numpy = np.array(pop_after_fit)\n",
        "    scores_numpy = np.array(scores)\n",
        "    for i in range(int(n_parents)):\n",
        "      rand_ints = random.sample(range(0,n_parents),16)\n",
        "      init_pop = pop_after_fit_numpy[rand_ints]\n",
        "      init_score = scores_numpy[rand_ints]\n",
        "      max_score_ind = np.argmax(init_score)\n",
        "      pop_after_selection.append(pop_after_fit_numpy[max_score_ind])\n",
        "            \n",
        "    return pop_after_selection\n",
        "\n",
        "\n",
        "def rank_based_selection(pop_after_fit, n_parents):\n",
        "    probability_of_selection = []\n",
        "    length = len(pop_after_fit)\n",
        "    population_after_selection = []\n",
        "    dec = 1/length\n",
        "    curr_val = 1\n",
        "    for i in range(0, length):\n",
        "      probability_of_selection.append(curr_val)\n",
        "      curr_val -= dec\n",
        "    pop_indices=[]\n",
        "    for i in range(0,length):\n",
        "      pop_indices.append(i)\n",
        "    from numpy.random import choice\n",
        "    pop_indices = choice(pop_indices,length,probability_of_selection)\n",
        "    for i in range(0,length):\n",
        "      population_after_selection.append(pop_after_fit[pop_indices[i]])\n",
        "    return population_after_selection\n",
        "    "
      ],
      "execution_count": null,
      "outputs": []
    },
    {
      "cell_type": "markdown",
      "metadata": {
        "id": "hoWia17i5HoN"
      },
      "source": [
        "Crossover Operators:"
      ]
    },
    {
      "cell_type": "code",
      "metadata": {
        "id": "Z5-TQEwm5N_e"
      },
      "source": [
        "def single_point_crossover(pop_after_sel):\n",
        "  population_nextgen=pop_after_sel\n",
        "  b = random.randint(1,34)\n",
        "  for i in range(len(pop_after_sel)):                                       \n",
        "    parent1 = pop_after_sel[i]                                               \n",
        "    parent2 = pop_after_sel[(i+1)%len(pop_after_sel)]\n",
        "    first_child_genes1 = parent1[0:b]\n",
        "    first_child = []                                          \n",
        "    for x in first_child_genes1:\n",
        "      first_child.append(x)\n",
        "    for x in first_child_genes2:\n",
        "      first_child.append(x)\n",
        "    population_nextgen.append(first_child)\n",
        "  return population_nextgen\n",
        "\n",
        "def double_point_crossover(pop_after_sel):     \n",
        "  population_nextgen=pop_after_sel\n",
        "  for i in range(len(pop_after_sel)):                \n",
        "      child=pop_after_sel[i]\n",
        "      a= random.randint(1,34)\n",
        "      b= random.randint(1,34)\n",
        "      child[min(a,b):max(a,b)]=pop_after_sel[(i+1)%len(pop_after_sel)][min(a,b):max(a,b)]      \n",
        "      population_nextgen.append(child)\n",
        "  return population_nextgen\n",
        "\n",
        "def uniform_crossover(pop_after_sel):\n",
        "  pop_nextgen = pop_after_sel                                \n",
        "  for i in range(0,len(pop_after_sel)):                       \n",
        "    parent1 = pop_after_sel[i]\n",
        "    parent2 = pop_after_sel[(i+1)%len(pop_after_sel)]\n",
        "    child = []\n",
        "    for j in range(0,len(parent1)):\n",
        "      val = random.choice([parent1[j],parent2[j]])\n",
        "      child.append(val)\n",
        "    pop_nextgen.append(child)\n",
        "  return pop_nextgen\n"
      ],
      "execution_count": null,
      "outputs": []
    },
    {
      "cell_type": "markdown",
      "metadata": {
        "id": "52mMWQ6M5U93"
      },
      "source": [
        "Mutation Operators"
      ]
    },
    {
      "cell_type": "code",
      "metadata": {
        "id": "T_2rfpGb5XTb"
      },
      "source": [
        "def mutation_flip_bits(pop_after_cross,mutation_rate=0.05):\n",
        "  population_nextgen = []\n",
        "  for i in range(0,len(pop_after_cross)):\n",
        "    chromosome = pop_after_cross[i]\n",
        "    to_be_flipped = np.random.randint(low=0, high=len(pop_after_cross[i]),size=1)[0]\n",
        "    if np.random.random() < mutation_rate:\n",
        "      chromosome[to_be_flipped] = not chromosome[to_be_flipped]\n",
        "    population_nextgen.append(chromosome)\n",
        "  return population_nextgen\n",
        "                          \n",
        "\n",
        "\n",
        "def mutation_bit_swap(offspring_crossover, mutation_rate=0.1):\n",
        "  for idx in range(0,len(offspring_crossover)):\n",
        "    mutation_gene1,mutation_gene2 = np.random.randint(low=0, high=len(offspring_crossover[idx]),size=2)\n",
        "    if np.random.random() < mutation_rate:\n",
        "      temp = offspring_crossover[idx][mutation_gene1]\n",
        "      offspring_crossover[idx][mutation_gene1] = offspring_crossover[idx][mutation_gene2]\n",
        "      offspring_crossover[idx][mutation_gene2] = temp\n",
        "  return offspring_crossover\n",
        "\n",
        "  "
      ],
      "execution_count": null,
      "outputs": []
    },
    {
      "cell_type": "markdown",
      "metadata": {
        "id": "noL154fi6G14"
      },
      "source": [
        "Genetic Algorithm :"
      ]
    },
    {
      "cell_type": "markdown",
      "metadata": {
        "id": "qPGPTTa1OXwO"
      },
      "source": [
        "Choose Operators"
      ]
    },
    {
      "cell_type": "code",
      "metadata": {
        "id": "5YTOIcZiOWZc",
        "cellView": "form"
      },
      "source": [
        "selection_arg = 'tournament' #@param [\"roulette\", \"tournament\", \"rank-based\"]\n",
        "crossover_arg = 'double-point' #@param [\"single-point\", \"double-point\", \"uniform\"]\n",
        "mutation_arg = 'bit-swap' #@param [\"bit-flip\", \"bit-swap\"]\n"
      ],
      "execution_count": null,
      "outputs": []
    },
    {
      "cell_type": "code",
      "metadata": {
        "id": "ShyFU0-6BLcc"
      },
      "source": [
        "#defining various steps required for the genetic algorithm\n",
        "def initilization_of_population(size,n_feat):\n",
        "    population = []\n",
        "    for i in range(size):\n",
        "        chromosome = np.ones(n_feat,dtype=np.bool)\n",
        "        chromosome[:int(0.3*n_feat)]=False\n",
        "        np.random.shuffle(chromosome)\n",
        "        population.append(chromosome)\n",
        "    return population\n",
        "\n",
        "def fitness_score(population):\n",
        "    scores = []\n",
        "    for chromosome in population:\n",
        "        classifier1 = RandomForestClassifier(n_estimators=20,random_state=0)\n",
        "        classifier1.fit(X_train.iloc[:,chromosome],y_train.ravel())\n",
        "        predictions = classifier1.predict(X_test.iloc[:,chromosome])\n",
        "        scores.append(accuracy_score(y_test.ravel(),predictions)/sum(chromosome))\n",
        "    scores, population = np.array(scores), np.array(population) \n",
        "    inds = np.argsort(scores)\n",
        "    return list(scores[inds][::-1]), list(population[inds,:][::-1])\n",
        "\n",
        "def selection(arg,pop_after_fit,n_parents,scores):\n",
        "    if arg == 'roulette':\n",
        "      return roulette_selection(pop_after_fit,n_parents,scores)\n",
        "    elif arg == 'tournament':\n",
        "      return tournament_selection(pop_after_fit, n_parents,scores)\n",
        "    elif arg == 'rank-based':\n",
        "      return rank_based_selection(pop_after_fit, n_parents)\n",
        "\n",
        "def crossover(arg,pop_after_sel):\n",
        "    if arg == 'single-point':\n",
        "        return single_point_crossover(pop_after_sel)\n",
        "    elif arg == 'double-point':\n",
        "        return double_point_crossover(pop_after_sel)\n",
        "    elif arg == 'uniform' :\n",
        "        return uniform_crossover(pop_after_sel)\n",
        "\n",
        "def mutation(arg,pop_after_cross,mutation_rate):\n",
        "    if arg == 'bit-flip':\n",
        "      return mutation_flip_bits(pop_after_cross,mutation_rate)\n",
        "    elif arg == 'bit-swap':\n",
        "      return mutation_bit_swap(pop_after_cross,mutation_rate)\n",
        "\n",
        "def generations(size,n_feat,n_parents,mutation_rate,n_gen,X_train,\n",
        "                                   X_test, y_train, y_test):\n",
        "    best_chromo= []\n",
        "    best_score= []\n",
        "    population_nextgen=initilization_of_population(size,n_feat)\n",
        "    for i in range(n_gen):\n",
        "        scores, pop_after_fit = fitness_score(population_nextgen)\n",
        "        print(\"Generation \" + str(i) + ': ' + str(sum(scores[:10])/10))\n",
        "        pop_after_sel = selection(selection_arg,pop_after_fit,n_parents,scores)\n",
        "        pop_after_cross = crossover(crossover_arg,pop_after_sel)\n",
        "        population_nextgen = mutation(mutation_arg,pop_after_cross,mutation_rate)    \n",
        "        best_chromo.append(pop_after_fit[0])\n",
        "        best_score.append(scores[0])\n",
        "    return best_chromo,best_score"
      ],
      "execution_count": null,
      "outputs": []
    },
    {
      "cell_type": "markdown",
      "metadata": {
        "id": "ONp8iwTSBcNJ"
      },
      "source": [
        "# Applying Genetic Algorithms for Feature Selection"
      ]
    },
    {
      "cell_type": "code",
      "metadata": {
        "id": "56nkUyLQBb3z",
        "colab": {
          "base_uri": "https://localhost:8080/"
        },
        "outputId": "1e5b3b52-6eaf-41a5-d549-6787e7c914e4"
      },
      "source": [
        "import time\n",
        "start = time.time()\n",
        "import numpy as np\n",
        "import random\n",
        " \n",
        "chromo,score=generations(size=100,n_feat=35,n_parents=100,mutation_rate=0.10,\n",
        "                     n_gen=4,X_train=X_train,X_test=X_test,y_train=y_train,y_test=y_test)\n",
        "\n",
        "print('Done')\n",
        "\n",
        "end = time.time()\n",
        "time_taken = end-start\n",
        "print('Time taken : '+str(time_taken))"
      ],
      "execution_count": null,
      "outputs": [
        {
          "output_type": "stream",
          "text": [
            "Generation 0: 0.03976595744680851\n",
            "Generation 1: 0.047112462006079034\n",
            "Generation 2: 0.055260047281323874\n",
            "Generation 3: 0.055555555555555566\n",
            "Done\n",
            "Time taken : 28.453720331192017\n"
          ],
          "name": "stdout"
        }
      ]
    },
    {
      "cell_type": "markdown",
      "metadata": {
        "id": "-M1WjltniBS3"
      },
      "source": [
        "Displaying the optimal solution"
      ]
    },
    {
      "cell_type": "code",
      "metadata": {
        "id": "17Pys1rVnZrH",
        "colab": {
          "base_uri": "https://localhost:8080/"
        },
        "outputId": "4358c9e9-7b94-4a95-b5de-ce6fa5d27312"
      },
      "source": [
        "classifier1 = RandomForestClassifier(n_estimators=20,random_state=0)\n",
        "classifier1.fit(X_train.iloc[:,chromo[-1]],y_train.ravel())\n",
        "predictions = classifier1.predict(X_test.iloc[:,chromo[-1]])\n",
        "print(\"Accuracy score after genetic algorithm is= \"+str(accuracy_score(y_test,predictions)))"
      ],
      "execution_count": null,
      "outputs": [
        {
          "output_type": "stream",
          "text": [
            "Accuracy score after genetic algorithm is= 1.0\n"
          ],
          "name": "stdout"
        }
      ]
    },
    {
      "cell_type": "code",
      "metadata": {
        "id": "dp82BasBhsZ6",
        "colab": {
          "base_uri": "https://localhost:8080/"
        },
        "outputId": "2aecedf8-5490-4b91-94dd-9071bcbf8373"
      },
      "source": [
        "df = pd.read_csv('reps-au-final.csv')\n",
        "header_list = df.columns\n",
        "sol = chromo[-1]\n",
        "ans = []\n",
        "for i in range(0,len(sol)):\n",
        "  if sol[i] == True:\n",
        "    ans.append(header_list[i])\n",
        "print(ans)\n",
        "print(len(ans))\n"
      ],
      "execution_count": null,
      "outputs": [
        {
          "output_type": "stream",
          "text": [
            "[' AU04_r', ' AU09_r', ' AU12_r', ' AU14_r', ' AU15_r', ' AU20_r', ' AU23_r', ' AU25_r', ' AU45_r', ' AU02_c', ' AU04_c', ' AU06_c', ' AU14_c', ' AU17_c', ' AU23_c', ' AU25_c', ' AU28_c', ' AU45_c']\n",
            "18\n"
          ],
          "name": "stdout"
        }
      ]
    },
    {
      "cell_type": "markdown",
      "metadata": {
        "id": "i2AvNNTjd-NZ"
      },
      "source": [
        "Testing on dataset consisting of our own images"
      ]
    },
    {
      "cell_type": "code",
      "metadata": {
        "id": "qI_vyDw9EWnP",
        "colab": {
          "base_uri": "https://localhost:8080/"
        },
        "outputId": "81045027-1d4d-4ff9-addb-9ab402bacf3c"
      },
      "source": [
        "import pandas as pd\n",
        "import numpy as np\n",
        "from sklearn.preprocessing import LabelEncoder\n",
        "from sklearn.model_selection import train_test_split\n",
        "\n",
        "rep_data2 = pd.read_csv('own-reps-final.csv', sep=',', header=0)\n",
        "label_data2 = pd.read_csv('own-labels-final.csv', sep=',', header=0)\n",
        "\n",
        "df2 = pd.DataFrame(rep_data2.to_numpy(), columns=[i for i in range(0,len(rep_data2.to_numpy()[0]))])\n",
        "\n",
        "le2 = LabelEncoder()\n",
        "label2 = le2.fit_transform(label_data2)\n",
        "predictions = classifier1.predict(df2.iloc[:,chromo[-1]])\n",
        "print(label2)\n",
        "print(predictions)\n"
      ],
      "execution_count": null,
      "outputs": [
        {
          "output_type": "stream",
          "text": [
            "[0 0 0 0 0 0 0 1 1 1 1 1 1 1 1]\n",
            "[1 1 1 1 0 0 1 1 1 1 1 1 1 1 1]\n"
          ],
          "name": "stdout"
        },
        {
          "output_type": "stream",
          "text": [
            "/usr/local/lib/python3.6/dist-packages/sklearn/preprocessing/_label.py:251: DataConversionWarning: A column-vector y was passed when a 1d array was expected. Please change the shape of y to (n_samples, ), for example using ravel().\n",
            "  y = column_or_1d(y, warn=True)\n"
          ],
          "name": "stderr"
        }
      ]
    },
    {
      "cell_type": "code",
      "metadata": {
        "id": "YEFRNFonUGzu",
        "colab": {
          "base_uri": "https://localhost:8080/"
        },
        "outputId": "d04c0e6a-7931-4d0b-c4db-d6defb7b4960"
      },
      "source": [
        "\n",
        "print(\"Accuracy score after genetic algorithm on our own dataset is= \"+str(accuracy_score(label2.ravel(),predictions)))"
      ],
      "execution_count": null,
      "outputs": [
        {
          "output_type": "stream",
          "text": [
            "Accuracy score after genetic algorithm on our own dataset is= 0.6666666666666666\n"
          ],
          "name": "stdout"
        }
      ]
    },
    {
      "cell_type": "markdown",
      "metadata": {
        "id": "Ep8QPjslOsme"
      },
      "source": [
        "Prediction on Images"
      ]
    },
    {
      "cell_type": "code",
      "metadata": {
        "id": "3vQ2-TvAgPyd",
        "colab": {
          "base_uri": "https://localhost:8080/",
          "height": 297
        },
        "outputId": "d016c8be-8db9-48e5-b440-032cc276b619"
      },
      "source": [
        "from IPython.display import Image, display\n",
        "display(Image('fear2-img.jpg'))"
      ],
      "execution_count": null,
      "outputs": [
        {
          "output_type": "display_data",
          "data": {
            "image/jpeg": "[encoded data removed]",
            "text/plain": [
              "<IPython.core.display.Image object>"
            ]
          },
          "metadata": {
            "tags": []
          }
        }
      ]
    },
    {
      "cell_type": "code",
      "metadata": {
        "id": "NOjZRTOSOvCp",
        "colab": {
          "base_uri": "https://localhost:8080/"
        },
        "outputId": "f6fd1833-ffd5-48c1-83cc-4acaa0b6a5fd"
      },
      "source": [
        "import pandas as pd\n",
        "import numpy as np\n",
        "from sklearn.preprocessing import LabelEncoder\n",
        "from sklearn.model_selection import train_test_split\n",
        "\n",
        "rep_data3 = pd.read_csv('pred-reps.csv', sep=',', header=0)\n",
        "label_data3 = pd.read_csv('fear2-label.csv', sep=',', header=0)\n",
        "df3 = pd.DataFrame(rep_data3.to_numpy(), columns=[i for i in range(0,len(rep_data3.to_numpy()[0]))])\n",
        "le3 = LabelEncoder()\n",
        "label3 = le3.fit_transform(label_data3)\n",
        "\n",
        "\n"
      ],
      "execution_count": null,
      "outputs": [
        {
          "output_type": "stream",
          "text": [
            "/usr/local/lib/python3.6/dist-packages/sklearn/preprocessing/_label.py:251: DataConversionWarning: A column-vector y was passed when a 1d array was expected. Please change the shape of y to (n_samples, ), for example using ravel().\n",
            "  y = column_or_1d(y, warn=True)\n"
          ],
          "name": "stderr"
        }
      ]
    },
    {
      "cell_type": "code",
      "metadata": {
        "id": "OVZ5azAbRFZJ",
        "colab": {
          "base_uri": "https://localhost:8080/"
        },
        "outputId": "73466081-5858-47d0-f6ad-b92717000205"
      },
      "source": [
        "prediction = classifier1.predict(df3.iloc[:,chromo[-1]])\n",
        "acc = accuracy_score(label3,prediction)\n",
        "if acc==1 and prediction[0]==0:\n",
        "  print(\"Correctly identified emotion : Fear\")\n",
        "elif acc==1 and prediction[0]==1:\n",
        "  print(\"Emotion displayed is not fear\")\n",
        "elif acc==0 and prediction[0]==0:\n",
        "  print(\"Incorrect emotion identified : Fear\")\n",
        "elif acc==0 and prediction[0]==1:\n",
        "  print(\"Incorrect emotion identified : Non-fear\")"
      ],
      "execution_count": null,
      "outputs": [
        {
          "output_type": "stream",
          "text": [
            "Correctly identified emotion : Fear\n"
          ],
          "name": "stdout"
        }
      ]
    }
  ]
}